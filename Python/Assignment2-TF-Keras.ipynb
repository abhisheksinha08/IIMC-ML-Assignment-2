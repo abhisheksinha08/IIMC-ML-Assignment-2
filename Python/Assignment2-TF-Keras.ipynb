{
 "cells": [
  {
   "cell_type": "code",
   "execution_count": 1,
   "metadata": {
    "collapsed": true
   },
   "outputs": [],
   "source": [
    "import pandas as pd\n",
    "import numpy as np\n",
    "from sklearn.feature_selection import VarianceThreshold\n",
    "\n",
    "from sklearn.model_selection import train_test_split\n",
    "from sklearn.metrics import confusion_matrix\n",
    "\n",
    "import plotly.plotly as py\n",
    "from plotly.graph_objs import *\n",
    "import plotly.tools as tls\n",
    "\n",
    "import time"
   ]
  },
  {
   "cell_type": "markdown",
   "metadata": {},
   "source": [
    "## Load Excel File"
   ]
  },
  {
   "cell_type": "code",
   "execution_count": 2,
   "metadata": {
    "collapsed": true
   },
   "outputs": [],
   "source": [
    "data = pd.read_excel('Data Set for Assignment II - 1000 Records 75 Attributes.xls')"
   ]
  },
  {
   "cell_type": "code",
   "execution_count": 3,
   "metadata": {},
   "outputs": [
    {
     "data": {
      "text/html": [
       "<div>\n",
       "<style>\n",
       "    .dataframe thead tr:only-child th {\n",
       "        text-align: right;\n",
       "    }\n",
       "\n",
       "    .dataframe thead th {\n",
       "        text-align: left;\n",
       "    }\n",
       "\n",
       "    .dataframe tbody tr th {\n",
       "        vertical-align: top;\n",
       "    }\n",
       "</style>\n",
       "<table border=\"1\" class=\"dataframe\">\n",
       "  <thead>\n",
       "    <tr style=\"text-align: right;\">\n",
       "      <th></th>\n",
       "      <th>Record Serial Number</th>\n",
       "      <th>MOSTYPE</th>\n",
       "      <th>MAANTHUI</th>\n",
       "      <th>MGEMOMV</th>\n",
       "      <th>MGEMLEEF</th>\n",
       "      <th>MOSHOOFD</th>\n",
       "      <th>MGODRK</th>\n",
       "      <th>MGODPR</th>\n",
       "      <th>MGODOV</th>\n",
       "      <th>MGODGE</th>\n",
       "      <th>...</th>\n",
       "      <th>AWALAND</th>\n",
       "      <th>APERSAUT</th>\n",
       "      <th>ABESAUT</th>\n",
       "      <th>AMOTSCO</th>\n",
       "      <th>AVRAAUT</th>\n",
       "      <th>AAANHANG</th>\n",
       "      <th>ATRACTOR</th>\n",
       "      <th>AWERKT</th>\n",
       "      <th>ABROM</th>\n",
       "      <th>OUTCOME</th>\n",
       "    </tr>\n",
       "  </thead>\n",
       "  <tbody>\n",
       "    <tr>\n",
       "      <th>0</th>\n",
       "      <td>1</td>\n",
       "      <td>9</td>\n",
       "      <td>1</td>\n",
       "      <td>3</td>\n",
       "      <td>3</td>\n",
       "      <td>3</td>\n",
       "      <td>1</td>\n",
       "      <td>4</td>\n",
       "      <td>1</td>\n",
       "      <td>5</td>\n",
       "      <td>...</td>\n",
       "      <td>0</td>\n",
       "      <td>1</td>\n",
       "      <td>0</td>\n",
       "      <td>0</td>\n",
       "      <td>0</td>\n",
       "      <td>0</td>\n",
       "      <td>0</td>\n",
       "      <td>0</td>\n",
       "      <td>0</td>\n",
       "      <td>0</td>\n",
       "    </tr>\n",
       "    <tr>\n",
       "      <th>1</th>\n",
       "      <td>2</td>\n",
       "      <td>33</td>\n",
       "      <td>1</td>\n",
       "      <td>4</td>\n",
       "      <td>3</td>\n",
       "      <td>8</td>\n",
       "      <td>0</td>\n",
       "      <td>6</td>\n",
       "      <td>0</td>\n",
       "      <td>3</td>\n",
       "      <td>...</td>\n",
       "      <td>0</td>\n",
       "      <td>0</td>\n",
       "      <td>0</td>\n",
       "      <td>0</td>\n",
       "      <td>0</td>\n",
       "      <td>0</td>\n",
       "      <td>0</td>\n",
       "      <td>0</td>\n",
       "      <td>0</td>\n",
       "      <td>0</td>\n",
       "    </tr>\n",
       "    <tr>\n",
       "      <th>2</th>\n",
       "      <td>3</td>\n",
       "      <td>8</td>\n",
       "      <td>2</td>\n",
       "      <td>3</td>\n",
       "      <td>3</td>\n",
       "      <td>2</td>\n",
       "      <td>2</td>\n",
       "      <td>4</td>\n",
       "      <td>1</td>\n",
       "      <td>3</td>\n",
       "      <td>...</td>\n",
       "      <td>0</td>\n",
       "      <td>0</td>\n",
       "      <td>0</td>\n",
       "      <td>0</td>\n",
       "      <td>0</td>\n",
       "      <td>0</td>\n",
       "      <td>0</td>\n",
       "      <td>0</td>\n",
       "      <td>0</td>\n",
       "      <td>0</td>\n",
       "    </tr>\n",
       "    <tr>\n",
       "      <th>3</th>\n",
       "      <td>4</td>\n",
       "      <td>39</td>\n",
       "      <td>1</td>\n",
       "      <td>3</td>\n",
       "      <td>3</td>\n",
       "      <td>9</td>\n",
       "      <td>1</td>\n",
       "      <td>4</td>\n",
       "      <td>1</td>\n",
       "      <td>5</td>\n",
       "      <td>...</td>\n",
       "      <td>0</td>\n",
       "      <td>1</td>\n",
       "      <td>0</td>\n",
       "      <td>0</td>\n",
       "      <td>0</td>\n",
       "      <td>0</td>\n",
       "      <td>0</td>\n",
       "      <td>0</td>\n",
       "      <td>0</td>\n",
       "      <td>0</td>\n",
       "    </tr>\n",
       "    <tr>\n",
       "      <th>4</th>\n",
       "      <td>5</td>\n",
       "      <td>33</td>\n",
       "      <td>1</td>\n",
       "      <td>3</td>\n",
       "      <td>3</td>\n",
       "      <td>8</td>\n",
       "      <td>0</td>\n",
       "      <td>5</td>\n",
       "      <td>0</td>\n",
       "      <td>4</td>\n",
       "      <td>...</td>\n",
       "      <td>0</td>\n",
       "      <td>0</td>\n",
       "      <td>0</td>\n",
       "      <td>0</td>\n",
       "      <td>0</td>\n",
       "      <td>0</td>\n",
       "      <td>0</td>\n",
       "      <td>0</td>\n",
       "      <td>0</td>\n",
       "      <td>0</td>\n",
       "    </tr>\n",
       "  </tbody>\n",
       "</table>\n",
       "<p>5 rows × 77 columns</p>\n",
       "</div>"
      ],
      "text/plain": [
       "   Record Serial Number  MOSTYPE   MAANTHUI   MGEMOMV   MGEMLEEF   MOSHOOFD   \\\n",
       "0                     1         9          1         3          3          3   \n",
       "1                     2        33          1         4          3          8   \n",
       "2                     3         8          2         3          3          2   \n",
       "3                     4        39          1         3          3          9   \n",
       "4                     5        33          1         3          3          8   \n",
       "\n",
       "   MGODRK   MGODPR   MGODOV   MGODGE    ...     AWALAND   APERSAUT   ABESAUT   \\\n",
       "0        1        4        1        5   ...            0          1         0   \n",
       "1        0        6        0        3   ...            0          0         0   \n",
       "2        2        4        1        3   ...            0          0         0   \n",
       "3        1        4        1        5   ...            0          1         0   \n",
       "4        0        5        0        4   ...            0          0         0   \n",
       "\n",
       "   AMOTSCO   AVRAAUT   AAANHANG   ATRACTOR   AWERKT   ABROM   OUTCOME  \n",
       "0         0         0          0          0        0       0        0  \n",
       "1         0         0          0          0        0       0        0  \n",
       "2         0         0          0          0        0       0        0  \n",
       "3         0         0          0          0        0       0        0  \n",
       "4         0         0          0          0        0       0        0  \n",
       "\n",
       "[5 rows x 77 columns]"
      ]
     },
     "execution_count": 3,
     "metadata": {},
     "output_type": "execute_result"
    }
   ],
   "source": [
    "data.head()"
   ]
  },
  {
   "cell_type": "code",
   "execution_count": 4,
   "metadata": {
    "collapsed": true
   },
   "outputs": [],
   "source": [
    "#Drop Record Serial Number\n",
    "data.drop('Record Serial Number', axis=1, inplace=True)"
   ]
  },
  {
   "cell_type": "code",
   "execution_count": 5,
   "metadata": {},
   "outputs": [
    {
     "data": {
      "text/plain": [
       "Index(['MOSTYPE ', 'MAANTHUI ', 'MGEMOMV ', 'MGEMLEEF ', 'MOSHOOFD ',\n",
       "       'MGODRK ', 'MGODPR ', 'MGODOV ', 'MGODGE ', 'MRELGE ', 'MRELSA ',\n",
       "       'MRELOV ', 'MFALLEEN ', 'MFGEKIND ', 'MFWEKIND ', 'MOPLHOOG ',\n",
       "       'MOPLMIDD ', 'MOPLLAAG ', 'MBERHOOG ', 'MBERZELF ', 'MBERBOER ',\n",
       "       'MBERMIDD ', 'MBERARBG ', 'MBERARBO ', 'MSKA ', 'MSKB1 ', 'MSKB2 ',\n",
       "       'MSKC ', 'MSKD ', 'MHHUUR ', 'MHKOOP ', 'MAUT1 ', 'MAUT2 ', 'MAUT0 ',\n",
       "       'MZFONDS ', 'MZPART ', 'MINKM30 ', 'MINK3045 ', 'MINK4575 ',\n",
       "       'MINK7512 ', 'MINK123M ', 'MINKGEM ', 'MKOOPKLA ', 'PWAPART ',\n",
       "       'PWABEDR ', 'PWALAND ', 'PPERSAUT ', 'PBESAUT ', 'PMOTSCO ', 'PVRAAUT ',\n",
       "       'PAANHANG ', 'PTRACTOR ', 'PWERKT ', 'PBROM ', 'PLEVEN ', 'PPERSONG ',\n",
       "       'PGEZONG ', 'PWAOREG ', 'PBRAND ', 'PZEILPL ', 'PPLEZIER ', 'PFIETS ',\n",
       "       'PINBOED ', 'PBYSTAND ', 'AWAPART ', 'AWABEDR ', 'AWALAND ',\n",
       "       'APERSAUT ', 'ABESAUT ', 'AMOTSCO ', 'AVRAAUT ', 'AAANHANG ',\n",
       "       'ATRACTOR ', 'AWERKT ', 'ABROM ', 'OUTCOME'],\n",
       "      dtype='object')"
      ]
     },
     "execution_count": 5,
     "metadata": {},
     "output_type": "execute_result"
    }
   ],
   "source": [
    "data.columns"
   ]
  },
  {
   "cell_type": "code",
   "execution_count": 6,
   "metadata": {},
   "outputs": [
    {
     "name": "stdout",
     "output_type": "stream",
     "text": [
      "(1000, 76) (1000,)\n"
     ]
    }
   ],
   "source": [
    "X_all = data.iloc[:,0:76]\n",
    "y_all = data['OUTCOME']\n",
    "print(X_all.shape, y_all.shape)"
   ]
  },
  {
   "cell_type": "markdown",
   "metadata": {},
   "source": [
    "## Remove Fields with Zero or 5% Variance."
   ]
  },
  {
   "cell_type": "code",
   "execution_count": 7,
   "metadata": {
    "collapsed": true
   },
   "outputs": [],
   "source": [
    "vt = VarianceThreshold(threshold=0.05)\n",
    "vt_data = vt.fit(X_all)"
   ]
  },
  {
   "cell_type": "code",
   "execution_count": 8,
   "metadata": {},
   "outputs": [
    {
     "name": "stdout",
     "output_type": "stream",
     "text": [
      "Shape after removing near-zero variance fields: (1000, 60)\n"
     ]
    }
   ],
   "source": [
    "X_all = X_all.iloc[:,vt_data.get_support()]\n",
    "print(\"Shape after removing near-zero variance fields:\", X_all.shape)"
   ]
  },
  {
   "cell_type": "markdown",
   "metadata": {},
   "source": [
    "## Normalization"
   ]
  },
  {
   "cell_type": "code",
   "execution_count": 9,
   "metadata": {
    "scrolled": true
   },
   "outputs": [
    {
     "name": "stdout",
     "output_type": "stream",
     "text": [
      "Shape of X_std:  (1000, 60)\n"
     ]
    }
   ],
   "source": [
    "from sklearn.preprocessing import StandardScaler\n",
    "X_std = StandardScaler().fit_transform(X_all)\n",
    "print(\"Shape of X_std: \", X_std.shape)"
   ]
  },
  {
   "cell_type": "markdown",
   "metadata": {},
   "source": [
    "## PCA"
   ]
  },
  {
   "cell_type": "code",
   "execution_count": 10,
   "metadata": {},
   "outputs": [
    {
     "data": {
      "text/plain": [
       "PCA(copy=True, iterated_power='auto', n_components=None, random_state=None,\n",
       "  svd_solver='auto', tol=0.0, whiten=False)"
      ]
     },
     "execution_count": 10,
     "metadata": {},
     "output_type": "execute_result"
    }
   ],
   "source": [
    "from sklearn.decomposition import PCA\n",
    "\n",
    "pca = PCA()\n",
    "pca.fit(X_std)"
   ]
  },
  {
   "cell_type": "code",
   "execution_count": 11,
   "metadata": {
    "collapsed": true
   },
   "outputs": [],
   "source": [
    "tls.set_credentials_file(username='abhishek.sparta', api_key='yudmTNxLLBWQrw3yNaQX')"
   ]
  },
  {
   "cell_type": "code",
   "execution_count": 12,
   "metadata": {
    "collapsed": true
   },
   "outputs": [],
   "source": [
    "eig_vals = pca.explained_variance_ratio_\n",
    "tot = sum(eig_vals)\n",
    "var_exp = [(i / tot)*100 for i in sorted(eig_vals, reverse=True)]\n",
    "cum_var_exp = np.cumsum(var_exp)\n",
    "\n",
    "trace1 = Bar(\n",
    "        x=['PC %s' %i for i in range(1,50)],\n",
    "        y=var_exp,\n",
    "        showlegend=False)\n",
    "\n",
    "trace2 = Scatter(\n",
    "        x=['PC %s' %i for i in range(1,50)], \n",
    "        y=cum_var_exp,\n",
    "        name='cumulative explained variance')\n",
    "\n",
    "data = Data([trace1, trace2])\n",
    "\n",
    "layout=Layout(\n",
    "        yaxis=YAxis(title='Explained variance in percent'),\n",
    "        title='Explained variance by different principal components')\n",
    "\n",
    "fig = Figure(data=data, layout=layout)\n",
    "#py.iplot(fig)"
   ]
  },
  {
   "cell_type": "markdown",
   "metadata": {},
   "source": [
    "### Selecting First 37 variables"
   ]
  },
  {
   "cell_type": "code",
   "execution_count": 13,
   "metadata": {},
   "outputs": [
    {
     "name": "stdout",
     "output_type": "stream",
     "text": [
      "Shape of X_pca:  (1000, 37)\n"
     ]
    }
   ],
   "source": [
    "pca = PCA(n_components=37)\n",
    "X_pca = pca.fit_transform(X_std)\n",
    "print(\"Shape of X_pca: \", X_pca.shape)"
   ]
  },
  {
   "cell_type": "markdown",
   "metadata": {},
   "source": [
    "## Min-Max Normalization"
   ]
  },
  {
   "cell_type": "code",
   "execution_count": 14,
   "metadata": {
    "collapsed": true
   },
   "outputs": [],
   "source": [
    "from sklearn.preprocessing import MinMaxScaler\n",
    "scaler = MinMaxScaler()"
   ]
  },
  {
   "cell_type": "code",
   "execution_count": 15,
   "metadata": {},
   "outputs": [
    {
     "data": {
      "text/plain": [
       "MinMaxScaler(copy=True, feature_range=(0, 1))"
      ]
     },
     "execution_count": 15,
     "metadata": {},
     "output_type": "execute_result"
    }
   ],
   "source": [
    "scaler"
   ]
  },
  {
   "cell_type": "code",
   "execution_count": 16,
   "metadata": {
    "collapsed": true
   },
   "outputs": [],
   "source": [
    "X_pca = scaler.fit_transform(X_pca)"
   ]
  },
  {
   "cell_type": "markdown",
   "metadata": {
    "collapsed": true
   },
   "source": [
    "# Data Split - Train, Valid and Test"
   ]
  },
  {
   "cell_type": "code",
   "execution_count": 17,
   "metadata": {
    "collapsed": true
   },
   "outputs": [],
   "source": [
    "X_all = pd.DataFrame(X_pca)"
   ]
  },
  {
   "cell_type": "code",
   "execution_count": 18,
   "metadata": {},
   "outputs": [
    {
     "name": "stdout",
     "output_type": "stream",
     "text": [
      "X_train: (650, 37) , X_test:  (350, 37) , y_train:  (650,) , y_test:  (350,)\n"
     ]
    }
   ],
   "source": [
    "X_train, X_test, y_train, y_test = train_test_split(X_all, y_all, test_size=0.35, random_state=123)\n",
    "print(\"X_train:\", X_train.shape, \", X_test: \", X_test.shape, \", y_train: \", y_train.shape, \", y_test: \", y_test.shape)"
   ]
  },
  {
   "cell_type": "code",
   "execution_count": 19,
   "metadata": {},
   "outputs": [
    {
     "name": "stdout",
     "output_type": "stream",
     "text": [
      "X_valid: (200, 37) , X_test:  (150, 37) , y_valid:  (200,) , y_test:  (150,)\n"
     ]
    }
   ],
   "source": [
    "X_valid, X_test, y_valid, y_test = train_test_split(X_test, y_test, test_size=0.427, random_state=123)\n",
    "print(\"X_valid:\", X_valid.shape, \", X_test: \", X_test.shape, \", y_valid: \", y_valid.shape, \", y_test: \", y_test.shape)"
   ]
  },
  {
   "cell_type": "markdown",
   "metadata": {},
   "source": [
    "# Machine Learning"
   ]
  },
  {
   "cell_type": "markdown",
   "metadata": {},
   "source": [
    "## Cost Function"
   ]
  },
  {
   "cell_type": "code",
   "execution_count": 20,
   "metadata": {
    "collapsed": true
   },
   "outputs": [],
   "source": [
    "def cost(tn, fn, tp, fp):\n",
    "    return( (fn * -1000) + (tp*9000) + (fp * -9000) )"
   ]
  },
  {
   "cell_type": "markdown",
   "metadata": {},
   "source": [
    "# Keras - TF"
   ]
  },
  {
   "cell_type": "code",
   "execution_count": 21,
   "metadata": {},
   "outputs": [
    {
     "name": "stderr",
     "output_type": "stream",
     "text": [
      "Using TensorFlow backend.\n"
     ]
    }
   ],
   "source": [
    "from keras import backend as K\n",
    "from keras.models import Sequential\n",
    "from keras.layers import Dense"
   ]
  },
  {
   "cell_type": "code",
   "execution_count": 22,
   "metadata": {
    "collapsed": true
   },
   "outputs": [],
   "source": [
    "def f1(y_true, y_pred):\n",
    "    def recall(y_true, y_pred):\n",
    "        \"\"\"Recall metric.\n",
    "\n",
    "        Only computes a batch-wise average of recall.\n",
    "\n",
    "        Computes the recall, a metric for multi-label classification of\n",
    "        how many relevant items are selected.\n",
    "        \"\"\"\n",
    "        true_positives = K.sum(K.round(K.clip(y_true * y_pred, 0, 1)))\n",
    "        possible_positives = K.sum(K.round(K.clip(y_true, 0, 1)))\n",
    "        recall = true_positives / (possible_positives + K.epsilon())\n",
    "        return recall\n",
    "\n",
    "    def precision(y_true, y_pred):\n",
    "        \"\"\"Precision metric.\n",
    "\n",
    "        Only computes a batch-wise average of precision.\n",
    "\n",
    "        Computes the precision, a metric for multi-label classification of\n",
    "        how many selected items are relevant.\n",
    "        \"\"\"\n",
    "        true_positives = K.sum(K.round(K.clip(y_true * y_pred, 0, 1)))\n",
    "        predicted_positives = K.sum(K.round(K.clip(y_pred, 0, 1)))\n",
    "        precision = true_positives / (predicted_positives + K.epsilon())\n",
    "        return precision\n",
    "    y_pred = K.round(y_pred)\n",
    "    precision = precision(y_true, y_pred)\n",
    "    recall = recall(y_true, y_pred)\n",
    "    return 2*((precision*recall)/(precision+recall))"
   ]
  },
  {
   "cell_type": "markdown",
   "metadata": {},
   "source": [
    "## Develop the Model"
   ]
  },
  {
   "cell_type": "code",
   "execution_count": 23,
   "metadata": {
    "collapsed": true
   },
   "outputs": [],
   "source": [
    "model = Sequential()\n",
    "\n",
    "model.add(Dense(activation=\"relu\", units=100, input_dim=37))\n",
    "model.add(Dense(activation=\"sigmoid\", units=1))\n",
    "\n",
    "model.compile(loss='binary_crossentropy', \n",
    "              optimizer=\"adam\",\n",
    "              metrics=['accuracy', f1])"
   ]
  },
  {
   "cell_type": "markdown",
   "metadata": {},
   "source": [
    "## Train the model"
   ]
  },
  {
   "cell_type": "code",
   "execution_count": 24,
   "metadata": {},
   "outputs": [
    {
     "name": "stdout",
     "output_type": "stream",
     "text": [
      "Epoch 1/200\n",
      "650/650 [==============================] - 0s - loss: 0.4131 - acc: 0.9185 - f1: nan       \n",
      "Epoch 2/200\n",
      "650/650 [==============================] - 0s - loss: 0.2377 - acc: 0.9354 - f1: nan     \n",
      "Epoch 3/200\n",
      "650/650 [==============================] - 0s - loss: 0.2358 - acc: 0.9354 - f1: nan     \n",
      "Epoch 4/200\n",
      "650/650 [==============================] - 0s - loss: 0.2285 - acc: 0.9354 - f1: nan     \n",
      "Epoch 5/200\n",
      "650/650 [==============================] - 0s - loss: 0.2230 - acc: 0.9354 - f1: nan     \n",
      "Epoch 6/200\n",
      "650/650 [==============================] - ETA: 0s - loss: 0.2210 - acc: 0.9340 - f1: na - 0s - loss: 0.2178 - acc: 0.9354 - f1: nan     \n",
      "Epoch 7/200\n",
      "650/650 [==============================] - 0s - loss: 0.2117 - acc: 0.9354 - f1: nan     \n",
      "Epoch 8/200\n",
      "650/650 [==============================] - 0s - loss: 0.2053 - acc: 0.9354 - f1: nan     \n",
      "Epoch 9/200\n",
      "650/650 [==============================] - 0s - loss: 0.1970 - acc: 0.9354 - f1: nan     \n",
      "Epoch 10/200\n",
      "650/650 [==============================] - 0s - loss: 0.1903 - acc: 0.9354 - f1: nan     \n",
      "Epoch 11/200\n",
      "650/650 [==============================] - 0s - loss: 0.1810 - acc: 0.9354 - f1: nan     \n",
      "Epoch 12/200\n",
      "650/650 [==============================] - 0s - loss: 0.1709 - acc: 0.9354 - f1: nan     \n",
      "Epoch 13/200\n",
      "650/650 [==============================] - 0s - loss: 0.1621 - acc: 0.9354 - f1: nan     \n",
      "Epoch 14/200\n",
      "650/650 [==============================] - 0s - loss: 0.1515 - acc: 0.9354 - f1: nan     \n",
      "Epoch 15/200\n",
      "650/650 [==============================] - 0s - loss: 0.1402 - acc: 0.9354 - f1: nan     \n",
      "Epoch 16/200\n",
      "650/650 [==============================] - 0s - loss: 0.1284 - acc: 0.9354 - f1: nan     \n",
      "Epoch 17/200\n",
      "650/650 [==============================] - 0s - loss: 0.1179 - acc: 0.9354 - f1: nan     \n",
      "Epoch 18/200\n",
      "650/650 [==============================] - 0s - loss: 0.1086 - acc: 0.9369 - f1: nan     \n",
      "Epoch 19/200\n",
      "650/650 [==============================] - 0s - loss: 0.0965 - acc: 0.9462 - f1: nan     \n",
      "Epoch 20/200\n",
      "650/650 [==============================] - 0s - loss: 0.0869 - acc: 0.9477 - f1: nan       \n",
      "Epoch 21/200\n",
      "650/650 [==============================] - 0s - loss: 0.0796 - acc: 0.9754 - f1: nan       \n",
      "Epoch 22/200\n",
      "650/650 [==============================] - 0s - loss: 0.0700 - acc: 0.9862 - f1: nan       \n",
      "Epoch 23/200\n",
      "650/650 [==============================] - 0s - loss: 0.0628 - acc: 0.9892 - f1: nan       \n",
      "Epoch 24/200\n",
      "650/650 [==============================] - 0s - loss: 0.0560 - acc: 0.9938 - f1: nan       \n",
      "Epoch 25/200\n",
      "650/650 [==============================] - 0s - loss: 0.0499 - acc: 0.9985 - f1: nan     \n",
      "Epoch 26/200\n",
      "650/650 [==============================] - 0s - loss: 0.0446 - acc: 0.9985 - f1: 0.9836     \n",
      "Epoch 27/200\n",
      "650/650 [==============================] - 0s - loss: 0.0410 - acc: 0.9985 - f1: nan        \n",
      "Epoch 28/200\n",
      "650/650 [==============================] - 0s - loss: 0.0361 - acc: 0.9985 - f1: nan     \n",
      "Epoch 29/200\n",
      "650/650 [==============================] - 0s - loss: 0.0328 - acc: 0.9985 - f1: nan        \n",
      "Epoch 30/200\n",
      "650/650 [==============================] - 0s - loss: 0.0296 - acc: 0.9985 - f1: nan       \n",
      "Epoch 31/200\n",
      "650/650 [==============================] - 0s - loss: 0.0269 - acc: 0.9985 - f1: nan       \n",
      "Epoch 32/200\n",
      "650/650 [==============================] - 0s - loss: 0.0244 - acc: 0.9985 - f1: nan       \n",
      "Epoch 33/200\n",
      "650/650 [==============================] - 0s - loss: 0.0223 - acc: 0.9985 - f1: nan        \n",
      "Epoch 34/200\n",
      "650/650 [==============================] - 0s - loss: 0.0206 - acc: 1.0000 - f1: nan     \n",
      "Epoch 35/200\n",
      "650/650 [==============================] - 0s - loss: 0.0193 - acc: 0.9985 - f1: nan     \n",
      "Epoch 36/200\n",
      "650/650 [==============================] - 0s - loss: 0.0173 - acc: 1.0000 - f1: nan        \n",
      "Epoch 37/200\n",
      "650/650 [==============================] - 0s - loss: 0.0160 - acc: 1.0000 - f1: nan       \n",
      "Epoch 38/200\n",
      "650/650 [==============================] - 0s - loss: 0.0148 - acc: 1.0000 - f1: nan       \n",
      "Epoch 39/200\n",
      "650/650 [==============================] - 0s - loss: 0.0137 - acc: 1.0000 - f1: nan       \n",
      "Epoch 40/200\n",
      "650/650 [==============================] - 0s - loss: 0.0129 - acc: 1.0000 - f1: nan       \n",
      "Epoch 41/200\n",
      "650/650 [==============================] - 0s - loss: 0.0120 - acc: 1.0000 - f1: nan        \n",
      "Epoch 42/200\n",
      "650/650 [==============================] - 0s - loss: 0.0111 - acc: 1.0000 - f1: nan       \n",
      "Epoch 43/200\n",
      "650/650 [==============================] - 0s - loss: 0.0103 - acc: 1.0000 - f1: nan       \n",
      "Epoch 44/200\n",
      "650/650 [==============================] - 0s - loss: 0.0097 - acc: 1.0000 - f1: nan       \n",
      "Epoch 45/200\n",
      "650/650 [==============================] - 0s - loss: 0.0091 - acc: 1.0000 - f1: nan       \n",
      "Epoch 46/200\n",
      "650/650 [==============================] - 0s - loss: 0.0085 - acc: 1.0000 - f1: nan       \n",
      "Epoch 47/200\n",
      "650/650 [==============================] - 0s - loss: 0.0081 - acc: 1.0000 - f1: nan       \n",
      "Epoch 48/200\n",
      "650/650 [==============================] - 0s - loss: 0.0077 - acc: 1.0000 - f1: nan       \n",
      "Epoch 49/200\n",
      "650/650 [==============================] - 0s - loss: 0.0073 - acc: 1.0000 - f1: nan       \n",
      "Epoch 50/200\n",
      "650/650 [==============================] - 0s - loss: 0.0068 - acc: 1.0000 - f1: nan     \n",
      "Epoch 51/200\n",
      "650/650 [==============================] - 0s - loss: 0.0065 - acc: 1.0000 - f1: nan       \n",
      "Epoch 52/200\n",
      "650/650 [==============================] - 0s - loss: 0.0061 - acc: 1.0000 - f1: nan       \n",
      "Epoch 53/200\n",
      "650/650 [==============================] - 0s - loss: 0.0059 - acc: 1.0000 - f1: nan       \n",
      "Epoch 54/200\n",
      "650/650 [==============================] - 0s - loss: 0.0056 - acc: 1.0000 - f1: nan        \n",
      "Epoch 55/200\n",
      "650/650 [==============================] - 0s - loss: 0.0053 - acc: 1.0000 - f1: nan        \n",
      "Epoch 56/200\n",
      "650/650 [==============================] - 0s - loss: 0.0050 - acc: 1.0000 - f1: nan        \n",
      "Epoch 57/200\n",
      "650/650 [==============================] - 0s - loss: 0.0048 - acc: 1.0000 - f1: nan       \n",
      "Epoch 58/200\n",
      "650/650 [==============================] - 0s - loss: 0.0046 - acc: 1.0000 - f1: nan       \n",
      "Epoch 59/200\n",
      "650/650 [==============================] - 0s - loss: 0.0044 - acc: 1.0000 - f1: nan       \n",
      "Epoch 60/200\n",
      "650/650 [==============================] - 0s - loss: 0.0042 - acc: 1.0000 - f1: nan       \n",
      "Epoch 61/200\n",
      "650/650 [==============================] - 0s - loss: 0.0040 - acc: 1.0000 - f1: nan       \n",
      "Epoch 62/200\n",
      "650/650 [==============================] - 0s - loss: 0.0039 - acc: 1.0000 - f1: nan       \n",
      "Epoch 63/200\n",
      "650/650 [==============================] - 0s - loss: 0.0037 - acc: 1.0000 - f1: nan       \n",
      "Epoch 64/200\n",
      "650/650 [==============================] - 0s - loss: 0.0035 - acc: 1.0000 - f1: nan     \n",
      "Epoch 65/200\n",
      "650/650 [==============================] - 0s - loss: 0.0034 - acc: 1.0000 - f1: nan       \n",
      "Epoch 66/200\n",
      "650/650 [==============================] - 0s - loss: 0.0032 - acc: 1.0000 - f1: nan       \n",
      "Epoch 67/200\n",
      "650/650 [==============================] - 0s - loss: 0.0031 - acc: 1.0000 - f1: nan     \n",
      "Epoch 68/200\n",
      "650/650 [==============================] - 0s - loss: 0.0030 - acc: 1.0000 - f1: nan       \n",
      "Epoch 69/200\n",
      "650/650 [==============================] - 0s - loss: 0.0029 - acc: 1.0000 - f1: nan       \n",
      "Epoch 70/200\n",
      "650/650 [==============================] - 0s - loss: 0.0028 - acc: 1.0000 - f1: nan       \n",
      "Epoch 71/200\n",
      "650/650 [==============================] - 0s - loss: 0.0027 - acc: 1.0000 - f1: nan       \n",
      "Epoch 72/200\n",
      "650/650 [==============================] - 0s - loss: 0.0026 - acc: 1.0000 - f1: nan        \n",
      "Epoch 73/200\n",
      "650/650 [==============================] - 0s - loss: 0.0025 - acc: 1.0000 - f1: nan     \n",
      "Epoch 74/200\n",
      "650/650 [==============================] - 0s - loss: 0.0024 - acc: 1.0000 - f1: nan       \n",
      "Epoch 75/200\n",
      "650/650 [==============================] - 0s - loss: 0.0023 - acc: 1.0000 - f1: nan        \n",
      "Epoch 76/200\n",
      "650/650 [==============================] - 0s - loss: 0.0022 - acc: 1.0000 - f1: nan        \n",
      "Epoch 77/200\n",
      "650/650 [==============================] - 0s - loss: 0.0022 - acc: 1.0000 - f1: nan       \n",
      "Epoch 78/200\n",
      "650/650 [==============================] - 0s - loss: 0.0021 - acc: 1.0000 - f1: nan       \n",
      "Epoch 79/200\n"
     ]
    },
    {
     "name": "stdout",
     "output_type": "stream",
     "text": [
      "650/650 [==============================] - 0s - loss: 0.0020 - acc: 1.0000 - f1: nan       \n",
      "Epoch 80/200\n",
      "650/650 [==============================] - 0s - loss: 0.0019 - acc: 1.0000 - f1: nan        \n",
      "Epoch 81/200\n",
      "650/650 [==============================] - 0s - loss: 0.0019 - acc: 1.0000 - f1: nan        \n",
      "Epoch 82/200\n",
      "650/650 [==============================] - 0s - loss: 0.0018 - acc: 1.0000 - f1: nan        \n",
      "Epoch 83/200\n",
      "650/650 [==============================] - 0s - loss: 0.0018 - acc: 1.0000 - f1: nan        \n",
      "Epoch 84/200\n",
      "650/650 [==============================] - 0s - loss: 0.0017 - acc: 1.0000 - f1: nan       \n",
      "Epoch 85/200\n",
      "650/650 [==============================] - 0s - loss: 0.0017 - acc: 1.0000 - f1: nan        \n",
      "Epoch 86/200\n",
      "650/650 [==============================] - 0s - loss: 0.0016 - acc: 1.0000 - f1: nan        \n",
      "Epoch 87/200\n",
      "650/650 [==============================] - 0s - loss: 0.0015 - acc: 1.0000 - f1: nan        \n",
      "Epoch 88/200\n",
      "650/650 [==============================] - 0s - loss: 0.0015 - acc: 1.0000 - f1: nan       \n",
      "Epoch 89/200\n",
      "650/650 [==============================] - 0s - loss: 0.0014 - acc: 1.0000 - f1: nan       \n",
      "Epoch 90/200\n",
      "650/650 [==============================] - 0s - loss: 0.0014 - acc: 1.0000 - f1: nan       \n",
      "Epoch 91/200\n",
      "650/650 [==============================] - 0s - loss: 0.0013 - acc: 1.0000 - f1: nan       \n",
      "Epoch 92/200\n",
      "650/650 [==============================] - 0s - loss: 0.0013 - acc: 1.0000 - f1: nan       \n",
      "Epoch 93/200\n",
      "650/650 [==============================] - 0s - loss: 0.0013 - acc: 1.0000 - f1: nan       \n",
      "Epoch 94/200\n",
      "650/650 [==============================] - 0s - loss: 0.0012 - acc: 1.0000 - f1: nan        \n",
      "Epoch 95/200\n",
      "650/650 [==============================] - 0s - loss: 0.0012 - acc: 1.0000 - f1: nan       \n",
      "Epoch 96/200\n",
      "650/650 [==============================] - 0s - loss: 0.0012 - acc: 1.0000 - f1: nan       \n",
      "Epoch 97/200\n",
      "650/650 [==============================] - 0s - loss: 0.0011 - acc: 1.0000 - f1: nan           \n",
      "Epoch 98/200\n",
      "650/650 [==============================] - 0s - loss: 0.0011 - acc: 1.0000 - f1: nan        \n",
      "Epoch 99/200\n",
      "650/650 [==============================] - 0s - loss: 0.0011 - acc: 1.0000 - f1: nan       \n",
      "Epoch 100/200\n",
      "650/650 [==============================] - 0s - loss: 0.0010 - acc: 1.0000 - f1: 1.0000         \n",
      "Epoch 101/200\n",
      "650/650 [==============================] - 0s - loss: 9.8460e-04 - acc: 1.0000 - f1: nan       \n",
      "Epoch 102/200\n",
      "650/650 [==============================] - 0s - loss: 9.5318e-04 - acc: 1.0000 - f1: nan       \n",
      "Epoch 103/200\n",
      "650/650 [==============================] - 0s - loss: 9.2791e-04 - acc: 1.0000 - f1: nan       \n",
      "Epoch 104/200\n",
      "650/650 [==============================] - 0s - loss: 8.9697e-04 - acc: 1.0000 - f1: 1.0000     \n",
      "Epoch 105/200\n",
      "650/650 [==============================] - 0s - loss: 8.7034e-04 - acc: 1.0000 - f1: nan       \n",
      "Epoch 106/200\n",
      "650/650 [==============================] - 0s - loss: 8.4551e-04 - acc: 1.0000 - f1: nan       \n",
      "Epoch 107/200\n",
      "650/650 [==============================] - 0s - loss: 8.2552e-04 - acc: 1.0000 - f1: nan        \n",
      "Epoch 108/200\n",
      "650/650 [==============================] - 0s - loss: 7.9830e-04 - acc: 1.0000 - f1: 1.0000     \n",
      "Epoch 109/200\n",
      "650/650 [==============================] - 0s - loss: 7.8120e-04 - acc: 1.0000 - f1: nan     \n",
      "Epoch 110/200\n",
      "650/650 [==============================] - 0s - loss: 7.5897e-04 - acc: 1.0000 - f1: nan    \n",
      "Epoch 111/200\n",
      "650/650 [==============================] - 0s - loss: 7.2738e-04 - acc: 1.0000 - f1: nan        \n",
      "Epoch 112/200\n",
      "650/650 [==============================] - 0s - loss: 7.1078e-04 - acc: 1.0000 - f1: nan        \n",
      "Epoch 113/200\n",
      "650/650 [==============================] - 0s - loss: 6.9021e-04 - acc: 1.0000 - f1: nan        \n",
      "Epoch 114/200\n",
      "650/650 [==============================] - 0s - loss: 6.7060e-04 - acc: 1.0000 - f1: nan        \n",
      "Epoch 115/200\n",
      "650/650 [==============================] - 0s - loss: 6.5718e-04 - acc: 1.0000 - f1: nan    \n",
      "Epoch 116/200\n",
      "650/650 [==============================] - 0s - loss: 6.3410e-04 - acc: 1.0000 - f1: nan    \n",
      "Epoch 117/200\n",
      "650/650 [==============================] - 0s - loss: 6.2113e-04 - acc: 1.0000 - f1: nan       \n",
      "Epoch 118/200\n",
      "650/650 [==============================] - 0s - loss: 6.0426e-04 - acc: 1.0000 - f1: nan       \n",
      "Epoch 119/200\n",
      "650/650 [==============================] - 0s - loss: 5.8837e-04 - acc: 1.0000 - f1: nan        \n",
      "Epoch 120/200\n",
      "650/650 [==============================] - 0s - loss: 5.7261e-04 - acc: 1.0000 - f1: nan       \n",
      "Epoch 121/200\n",
      "650/650 [==============================] - 0s - loss: 5.5541e-04 - acc: 1.0000 - f1: nan     \n",
      "Epoch 122/200\n",
      "650/650 [==============================] - 0s - loss: 5.4434e-04 - acc: 1.0000 - f1: nan       \n",
      "Epoch 123/200\n",
      "650/650 [==============================] - 0s - loss: 5.3064e-04 - acc: 1.0000 - f1: nan       \n",
      "Epoch 124/200\n",
      "650/650 [==============================] - 0s - loss: 5.1547e-04 - acc: 1.0000 - f1: nan     \n",
      "Epoch 125/200\n",
      "650/650 [==============================] - 0s - loss: 5.0101e-04 - acc: 1.0000 - f1: nan     \n",
      "Epoch 126/200\n",
      "650/650 [==============================] - 0s - loss: 4.9221e-04 - acc: 1.0000 - f1: nan     \n",
      "Epoch 127/200\n",
      "650/650 [==============================] - 0s - loss: 4.7683e-04 - acc: 1.0000 - f1: nan        \n",
      "Epoch 128/200\n",
      "650/650 [==============================] - 0s - loss: 4.6376e-04 - acc: 1.0000 - f1: nan        \n",
      "Epoch 129/200\n",
      "650/650 [==============================] - 0s - loss: 4.5326e-04 - acc: 1.0000 - f1: nan        \n",
      "Epoch 130/200\n",
      "650/650 [==============================] - 0s - loss: 4.4222e-04 - acc: 1.0000 - f1: nan        \n",
      "Epoch 131/200\n",
      "650/650 [==============================] - 0s - loss: 4.3029e-04 - acc: 1.0000 - f1: nan        \n",
      "Epoch 132/200\n",
      "650/650 [==============================] - 0s - loss: 4.2059e-04 - acc: 1.0000 - f1: nan        \n",
      "Epoch 133/200\n",
      "650/650 [==============================] - 0s - loss: 4.1027e-04 - acc: 1.0000 - f1: nan        \n",
      "Epoch 134/200\n",
      "650/650 [==============================] - 0s - loss: 4.0054e-04 - acc: 1.0000 - f1: nan        \n",
      "Epoch 135/200\n",
      "650/650 [==============================] - 0s - loss: 3.9130e-04 - acc: 1.0000 - f1: nan        \n",
      "Epoch 136/200\n",
      "650/650 [==============================] - 0s - loss: 3.8249e-04 - acc: 1.0000 - f1: nan        \n",
      "Epoch 137/200\n",
      "650/650 [==============================] - 0s - loss: 3.8222e-04 - acc: 1.0000 - f1: nan       \n",
      "Epoch 138/200\n",
      "650/650 [==============================] - 0s - loss: 3.6571e-04 - acc: 1.0000 - f1: nan       \n",
      "Epoch 139/200\n",
      "650/650 [==============================] - 0s - loss: 3.5383e-04 - acc: 1.0000 - f1: nan       \n",
      "Epoch 140/200\n",
      "650/650 [==============================] - 0s - loss: 3.4565e-04 - acc: 1.0000 - f1: nan       \n",
      "Epoch 141/200\n",
      "650/650 [==============================] - 0s - loss: 3.4011e-04 - acc: 1.0000 - f1: nan        \n",
      "Epoch 142/200\n",
      "650/650 [==============================] - 0s - loss: 3.3182e-04 - acc: 1.0000 - f1: nan       \n",
      "Epoch 143/200\n",
      "650/650 [==============================] - 0s - loss: 3.2404e-04 - acc: 1.0000 - f1: nan       \n",
      "Epoch 144/200\n",
      "650/650 [==============================] - 0s - loss: 3.1817e-04 - acc: 1.0000 - f1: nan       \n",
      "Epoch 145/200\n",
      "650/650 [==============================] - 0s - loss: 3.1047e-04 - acc: 1.0000 - f1: nan       \n",
      "Epoch 146/200\n",
      "650/650 [==============================] - 0s - loss: 3.0081e-04 - acc: 1.0000 - f1: nan       \n",
      "Epoch 147/200\n",
      "650/650 [==============================] - 0s - loss: 2.9533e-04 - acc: 1.0000 - f1: nan       \n",
      "Epoch 148/200\n",
      "650/650 [==============================] - 0s - loss: 2.8834e-04 - acc: 1.0000 - f1: nan       \n",
      "Epoch 149/200\n",
      "650/650 [==============================] - 0s - loss: 2.8293e-04 - acc: 1.0000 - f1: nan       \n",
      "Epoch 150/200\n",
      "650/650 [==============================] - 0s - loss: 2.7563e-04 - acc: 1.0000 - f1: nan       \n",
      "Epoch 151/200\n",
      "650/650 [==============================] - 0s - loss: 2.7131e-04 - acc: 1.0000 - f1: nan       \n",
      "Epoch 152/200\n",
      "650/650 [==============================] - 0s - loss: 2.6509e-04 - acc: 1.0000 - f1: nan       \n",
      "Epoch 153/200\n",
      "650/650 [==============================] - 0s - loss: 2.5908e-04 - acc: 1.0000 - f1: nan       \n",
      "Epoch 154/200\n"
     ]
    },
    {
     "name": "stdout",
     "output_type": "stream",
     "text": [
      "650/650 [==============================] - 0s - loss: 2.5350e-04 - acc: 1.0000 - f1: nan       \n",
      "Epoch 155/200\n",
      "650/650 [==============================] - 0s - loss: 2.4904e-04 - acc: 1.0000 - f1: nan        \n",
      "Epoch 156/200\n",
      "650/650 [==============================] - 0s - loss: 2.4280e-04 - acc: 1.0000 - f1: nan       \n",
      "Epoch 157/200\n",
      "650/650 [==============================] - 0s - loss: 2.3754e-04 - acc: 1.0000 - f1: nan       \n",
      "Epoch 158/200\n",
      "650/650 [==============================] - 0s - loss: 2.3161e-04 - acc: 1.0000 - f1: nan       \n",
      "Epoch 159/200\n",
      "650/650 [==============================] - 0s - loss: 2.2812e-04 - acc: 1.0000 - f1: nan       \n",
      "Epoch 160/200\n",
      "650/650 [==============================] - 0s - loss: 2.2501e-04 - acc: 1.0000 - f1: nan        \n",
      "Epoch 161/200\n",
      "650/650 [==============================] - 0s - loss: 2.2021e-04 - acc: 1.0000 - f1: nan       \n",
      "Epoch 162/200\n",
      "650/650 [==============================] - 0s - loss: 2.1300e-04 - acc: 1.0000 - f1: nan       \n",
      "Epoch 163/200\n",
      "650/650 [==============================] - 0s - loss: 2.0926e-04 - acc: 1.0000 - f1: nan       \n",
      "Epoch 164/200\n",
      "650/650 [==============================] - 0s - loss: 2.0568e-04 - acc: 1.0000 - f1: nan        \n",
      "Epoch 165/200\n",
      "650/650 [==============================] - 0s - loss: 2.0180e-04 - acc: 1.0000 - f1: nan       \n",
      "Epoch 166/200\n",
      "650/650 [==============================] - 0s - loss: 1.9821e-04 - acc: 1.0000 - f1: nan       \n",
      "Epoch 167/200\n",
      "650/650 [==============================] - 0s - loss: 1.9301e-04 - acc: 1.0000 - f1: nan       \n",
      "Epoch 168/200\n",
      "650/650 [==============================] - 0s - loss: 1.8931e-04 - acc: 1.0000 - f1: nan       \n",
      "Epoch 169/200\n",
      "650/650 [==============================] - 0s - loss: 1.8603e-04 - acc: 1.0000 - f1: nan       \n",
      "Epoch 170/200\n",
      "650/650 [==============================] - 0s - loss: 1.8240e-04 - acc: 1.0000 - f1: nan       \n",
      "Epoch 171/200\n",
      "650/650 [==============================] - 0s - loss: 1.7938e-04 - acc: 1.0000 - f1: nan     \n",
      "Epoch 172/200\n",
      "650/650 [==============================] - 0s - loss: 1.7541e-04 - acc: 1.0000 - f1: nan       \n",
      "Epoch 173/200\n",
      "650/650 [==============================] - 0s - loss: 1.7148e-04 - acc: 1.0000 - f1: nan        \n",
      "Epoch 174/200\n",
      "650/650 [==============================] - 0s - loss: 1.6795e-04 - acc: 1.0000 - f1: nan        \n",
      "Epoch 175/200\n",
      "650/650 [==============================] - 0s - loss: 1.6487e-04 - acc: 1.0000 - f1: nan       \n",
      "Epoch 176/200\n",
      "650/650 [==============================] - 0s - loss: 1.6107e-04 - acc: 1.0000 - f1: nan     \n",
      "Epoch 177/200\n",
      "650/650 [==============================] - 0s - loss: 1.5882e-04 - acc: 1.0000 - f1: nan       \n",
      "Epoch 178/200\n",
      "650/650 [==============================] - 0s - loss: 1.5649e-04 - acc: 1.0000 - f1: nan        \n",
      "Epoch 179/200\n",
      "650/650 [==============================] - 0s - loss: 1.5222e-04 - acc: 1.0000 - f1: nan        \n",
      "Epoch 180/200\n",
      "650/650 [==============================] - 0s - loss: 1.4965e-04 - acc: 1.0000 - f1: nan        \n",
      "Epoch 181/200\n",
      "650/650 [==============================] - 0s - loss: 1.4735e-04 - acc: 1.0000 - f1: 1.0000     \n",
      "Epoch 182/200\n",
      "650/650 [==============================] - 0s - loss: 1.4494e-04 - acc: 1.0000 - f1: nan       \n",
      "Epoch 183/200\n",
      "650/650 [==============================] - 0s - loss: 1.4085e-04 - acc: 1.0000 - f1: nan       \n",
      "Epoch 184/200\n",
      "650/650 [==============================] - 0s - loss: 1.3828e-04 - acc: 1.0000 - f1: nan       \n",
      "Epoch 185/200\n",
      "650/650 [==============================] - 0s - loss: 1.3637e-04 - acc: 1.0000 - f1: nan     \n",
      "Epoch 186/200\n",
      "650/650 [==============================] - 0s - loss: 1.3332e-04 - acc: 1.0000 - f1: nan       \n",
      "Epoch 187/200\n",
      "650/650 [==============================] - 0s - loss: 1.3083e-04 - acc: 1.0000 - f1: nan       \n",
      "Epoch 188/200\n",
      "650/650 [==============================] - 0s - loss: 1.2889e-04 - acc: 1.0000 - f1: nan       \n",
      "Epoch 189/200\n",
      "650/650 [==============================] - 0s - loss: 1.2615e-04 - acc: 1.0000 - f1: nan       \n",
      "Epoch 190/200\n",
      "650/650 [==============================] - 0s - loss: 1.2442e-04 - acc: 1.0000 - f1: nan       \n",
      "Epoch 191/200\n",
      "650/650 [==============================] - 0s - loss: 1.2156e-04 - acc: 1.0000 - f1: nan       \n",
      "Epoch 192/200\n",
      "650/650 [==============================] - 0s - loss: 1.2006e-04 - acc: 1.0000 - f1: nan       \n",
      "Epoch 193/200\n",
      "650/650 [==============================] - 0s - loss: 1.1732e-04 - acc: 1.0000 - f1: nan       \n",
      "Epoch 194/200\n",
      "650/650 [==============================] - 0s - loss: 1.1492e-04 - acc: 1.0000 - f1: nan       \n",
      "Epoch 195/200\n",
      "650/650 [==============================] - 0s - loss: 1.1311e-04 - acc: 1.0000 - f1: nan       \n",
      "Epoch 196/200\n",
      "650/650 [==============================] - 0s - loss: 1.1057e-04 - acc: 1.0000 - f1: nan       \n",
      "Epoch 197/200\n",
      "650/650 [==============================] - 0s - loss: 1.0909e-04 - acc: 1.0000 - f1: nan     \n",
      "Epoch 198/200\n",
      "650/650 [==============================] - 0s - loss: 1.0703e-04 - acc: 1.0000 - f1: nan       \n",
      "Epoch 199/200\n",
      "650/650 [==============================] - 0s - loss: 1.0510e-04 - acc: 1.0000 - f1: nan        \n",
      "Epoch 200/200\n",
      "650/650 [==============================] - 0s - loss: 1.0299e-04 - acc: 1.0000 - f1: nan     \n"
     ]
    },
    {
     "data": {
      "text/plain": [
       "<keras.callbacks.History at 0x1161972e8>"
      ]
     },
     "execution_count": 24,
     "metadata": {},
     "output_type": "execute_result"
    }
   ],
   "source": [
    "model.fit(np.array(X_train), np.array(y_train), epochs=200)"
   ]
  },
  {
   "cell_type": "code",
   "execution_count": 25,
   "metadata": {},
   "outputs": [
    {
     "name": "stdout",
     "output_type": "stream",
     "text": [
      " 32/650 [>.............................] - ETA: 0s\n",
      "acc: 100.00%\n",
      "\n",
      "f1: nan\n"
     ]
    }
   ],
   "source": [
    "# Evaluate the model\n",
    "scores = model.evaluate(np.array(X_train), np.array(y_train))\n",
    "print(\"\\n%s: %.2f%%\" % (model.metrics_names[1], scores[1]*100))\n",
    "print(\"\\n%s: %.2f\" % (model.metrics_names[2], scores[2]))"
   ]
  },
  {
   "cell_type": "markdown",
   "metadata": {},
   "source": [
    "## Predict on Validation Set"
   ]
  },
  {
   "cell_type": "code",
   "execution_count": 26,
   "metadata": {},
   "outputs": [
    {
     "name": "stdout",
     "output_type": "stream",
     "text": [
      "[[193   0]\n",
      " [  0   7]]\n"
     ]
    }
   ],
   "source": [
    "predictions = model.predict(np.array(X_valid))\n",
    "rounded = [round(x[0]) for x in predictions]\n",
    "con_matrix = confusion_matrix(y_valid, rounded)\n",
    "\n",
    "print(con_matrix)"
   ]
  },
  {
   "cell_type": "code",
   "execution_count": 27,
   "metadata": {},
   "outputs": [
    {
     "name": "stdout",
     "output_type": "stream",
     "text": [
      "Cost of Validation Set:  63000\n"
     ]
    }
   ],
   "source": [
    "cost_val = cost(con_matrix[0][0], con_matrix[0][1], con_matrix[1][1], con_matrix[1][0])\n",
    "print(\"Cost of Validation Set: \", cost_val)"
   ]
  },
  {
   "cell_type": "markdown",
   "metadata": {},
   "source": [
    "## Prediction on Test Set"
   ]
  },
  {
   "cell_type": "code",
   "execution_count": 28,
   "metadata": {},
   "outputs": [
    {
     "name": "stdout",
     "output_type": "stream",
     "text": [
      "[[142   0]\n",
      " [  0   8]]\n"
     ]
    }
   ],
   "source": [
    "predictions = model.predict(np.array(X_test))\n",
    "rounded = [round(x[0]) for x in predictions]\n",
    "con_matrix = confusion_matrix(y_test, rounded)\n",
    "\n",
    "print(con_matrix)"
   ]
  },
  {
   "cell_type": "code",
   "execution_count": 29,
   "metadata": {},
   "outputs": [
    {
     "name": "stdout",
     "output_type": "stream",
     "text": [
      "Cost of Test Set:  72000\n"
     ]
    }
   ],
   "source": [
    "cost_test = cost(con_matrix[0][0], con_matrix[0][1], con_matrix[1][1], con_matrix[1][0])\n",
    "print(\"Cost of Test Set: \", cost_test)"
   ]
  }
 ],
 "metadata": {
  "kernelspec": {
   "display_name": "Python 3",
   "language": "python",
   "name": "python3"
  },
  "language_info": {
   "codemirror_mode": {
    "name": "ipython",
    "version": 3
   },
   "file_extension": ".py",
   "mimetype": "text/x-python",
   "name": "python",
   "nbconvert_exporter": "python",
   "pygments_lexer": "ipython3",
   "version": "3.6.1"
  }
 },
 "nbformat": 4,
 "nbformat_minor": 2
}
